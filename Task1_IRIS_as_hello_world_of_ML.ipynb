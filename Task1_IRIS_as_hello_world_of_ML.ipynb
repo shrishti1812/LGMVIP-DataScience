{
 "cells": [
  {
   "cell_type": "code",
   "execution_count": null,
   "id": "8a36273b",
   "metadata": {},
   "outputs": [],
   "source": [
    "# NAME : SRISHTI PATWAL"
   ]
  },
  {
   "cell_type": "code",
   "execution_count": 1,
   "id": "03dbcabe",
   "metadata": {},
   "outputs": [],
   "source": [
    "# Importing the Iris dataset\n",
    "from sklearn.datasets import load_iris"
   ]
  },
  {
   "cell_type": "code",
   "execution_count": 2,
   "id": "1ea76947",
   "metadata": {},
   "outputs": [],
   "source": [
    "#load an instance of Iris dataset \n",
    "data_iris = load_iris()"
   ]
  },
  {
   "cell_type": "code",
   "execution_count": 3,
   "id": "aadf5d03",
   "metadata": {},
   "outputs": [],
   "source": [
    "# creating two variables \n",
    "x_features = data_iris.data # all patterns \n",
    "y_labels = data_iris.target # all labels targets"
   ]
  },
  {
   "cell_type": "code",
   "execution_count": 4,
   "id": "6885a206",
   "metadata": {},
   "outputs": [
    {
     "name": "stdout",
     "output_type": "stream",
     "text": [
      "(150, 4)\n",
      "(150,)\n"
     ]
    }
   ],
   "source": [
    "# Amount of dataset patterns\n",
    "print(x_features.shape) \n",
    "print(y_labels.shape)"
   ]
  },
  {
   "cell_type": "code",
   "execution_count": 7,
   "id": "5ee7ed3b",
   "metadata": {},
   "outputs": [],
   "source": [
    "from sklearn.model_selection import train_test_split\n",
    "x_train, x_test, y_train, y_test = train_test_split(x_features, y_labels, test_size=0.3) #divide dataset in two samples: train and test"
   ]
  },
  {
   "cell_type": "code",
   "execution_count": 8,
   "id": "e00b42d4",
   "metadata": {},
   "outputs": [],
   "source": [
    "# Supervised ML-KNN\n",
    "from sklearn.neighbors import KNeighborsClassifier"
   ]
  },
  {
   "cell_type": "code",
   "execution_count": 9,
   "id": "e43d5345",
   "metadata": {},
   "outputs": [],
   "source": [
    "knn = KNeighborsClassifier(n_neighbors=3)"
   ]
  },
  {
   "cell_type": "code",
   "execution_count": 10,
   "id": "b27c4b56",
   "metadata": {},
   "outputs": [
    {
     "data": {
      "text/plain": [
       "KNeighborsClassifier(n_neighbors=3)"
      ]
     },
     "execution_count": 10,
     "metadata": {},
     "output_type": "execute_result"
    }
   ],
   "source": [
    "knn.fit(x_train, y_train)"
   ]
  },
  {
   "cell_type": "code",
   "execution_count": 11,
   "id": "741c7079",
   "metadata": {},
   "outputs": [],
   "source": [
    "label_pred = knn.predict(x_test)"
   ]
  },
  {
   "cell_type": "code",
   "execution_count": 12,
   "id": "bb44ac9d",
   "metadata": {},
   "outputs": [],
   "source": [
    "from sklearn import metrics"
   ]
  },
  {
   "cell_type": "code",
   "execution_count": 13,
   "id": "8a6006e3",
   "metadata": {},
   "outputs": [
    {
     "name": "stdout",
     "output_type": "stream",
     "text": [
      "0.9333333333333333\n"
     ]
    }
   ],
   "source": [
    "print(metrics.accuracy_score(y_test, label_pred))  #calculate the score accuracy"
   ]
  },
  {
   "cell_type": "code",
   "execution_count": null,
   "id": "711c6734",
   "metadata": {},
   "outputs": [],
   "source": [
    "# THANK YOU"
   ]
  }
 ],
 "metadata": {
  "kernelspec": {
   "display_name": "Python 3",
   "language": "python",
   "name": "python3"
  },
  "language_info": {
   "codemirror_mode": {
    "name": "ipython",
    "version": 3
   },
   "file_extension": ".py",
   "mimetype": "text/x-python",
   "name": "python",
   "nbconvert_exporter": "python",
   "pygments_lexer": "ipython3",
   "version": "3.8.8"
  }
 },
 "nbformat": 4,
 "nbformat_minor": 5
}
